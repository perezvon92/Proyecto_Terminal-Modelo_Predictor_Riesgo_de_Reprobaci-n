{
 "cells": [
  {
   "cell_type": "code",
   "execution_count": 1,
   "id": "dbb2b25d",
   "metadata": {},
   "outputs": [],
   "source": [
    "import pandas as pd\n",
    "import numpy as np\n",
    "from sklearn.metrics import roc_auc_score\n",
    "from sklearn.metrics import accuracy_score\n",
    "from sklearn.metrics import f1_score\n",
    "from sklearn.ensemble import RandomForestClassifier\n",
    "from sklearn.datasets import make_classification"
   ]
  },
  {
   "cell_type": "markdown",
   "id": "cc2c4383",
   "metadata": {},
   "source": [
    "### Función principal Random Forest recibe como paramétros el conjunto de pruebas y entrenamiento en ese órden (los recibe como un pandas dataframe)"
   ]
  },
  {
   "cell_type": "code",
   "execution_count": 140,
   "id": "a0d4b3d9",
   "metadata": {},
   "outputs": [],
   "source": [
    "def randomforest(test, train):\n",
    "    test_Y = test['carga_aprobada'].to_numpy()\n",
    "    del test[\"carga_aprobada\"]\n",
    "    test_X = test.to_numpy()\n",
    "    train_Y = train['carga_aprobada'].to_numpy()\n",
    "    del train[\"carga_aprobada\"]\n",
    "    train_X = train.to_numpy()\n",
    "    rf = RandomForestClassifier(criterion='entropy', min_samples_leaf=2000, bootstrap=True, oob_score=True)\n",
    "    rf = rf.fit(train_X, train_Y)\n",
    "    predictions = rf.predict(test_X)\n",
    "    print(\"Random forest:\")\n",
    "    print(\"ROC:\",roc_auc_score(test_Y, predictions),\"ACC:\", accuracy_score(test_Y, predictions), \"F1:\", f1_score(test_Y, predictions))"
   ]
  },
  {
   "cell_type": "markdown",
   "id": "f83422f9",
   "metadata": {},
   "source": [
    "### Se leen los datos de pruebas y entrenamiento"
   ]
  },
  {
   "cell_type": "code",
   "execution_count": 144,
   "id": "bd7722d0",
   "metadata": {},
   "outputs": [
    {
     "data": {
      "text/plain": [
       "24"
      ]
     },
     "execution_count": 144,
     "metadata": {},
     "output_type": "execute_result"
    }
   ],
   "source": [
    "train = pd.read_csv('../Data/train.csv', encoding='Latin1')\n",
    "train.shape[1]"
   ]
  },
  {
   "cell_type": "code",
   "execution_count": 145,
   "id": "66fdd732",
   "metadata": {},
   "outputs": [
    {
     "data": {
      "text/plain": [
       "(12140, 24)"
      ]
     },
     "execution_count": 145,
     "metadata": {},
     "output_type": "execute_result"
    }
   ],
   "source": [
    "test = pd.read_csv('../Data/test.csv', encoding='Latin1')\n",
    "test.shape"
   ]
  },
  {
   "cell_type": "markdown",
   "id": "1bd06623",
   "metadata": {},
   "source": [
    "### Se ejecuta la función principal."
   ]
  },
  {
   "cell_type": "code",
   "execution_count": 146,
   "id": "4b195e22",
   "metadata": {},
   "outputs": [
    {
     "name": "stdout",
     "output_type": "stream",
     "text": [
      "Random forest:\n",
      "ROC: 0.5952400971450663 ACC: 0.6726523887973641 F1: 0.7775663271017575\n"
     ]
    }
   ],
   "source": [
    "randomforest(test,train)"
   ]
  }
 ],
 "metadata": {
  "kernelspec": {
   "display_name": "Python 3 (ipykernel)",
   "language": "python",
   "name": "python3"
  },
  "language_info": {
   "codemirror_mode": {
    "name": "ipython",
    "version": 3
   },
   "file_extension": ".py",
   "mimetype": "text/x-python",
   "name": "python",
   "nbconvert_exporter": "python",
   "pygments_lexer": "ipython3",
   "version": "3.8.5"
  }
 },
 "nbformat": 4,
 "nbformat_minor": 5
}
