{
 "cells": [
  {
   "cell_type": "code",
   "execution_count": 1,
   "metadata": {},
   "outputs": [],
   "source": [
    "import pandas as pd\n",
    "import numpy as np\n",
    "from sklearn.tree import DecisionTreeClassifier\n",
    "from sklearn.metrics import classification_report\n",
    "from sklearn.metrics import confusion_matrix\n",
    "from sklearn import tree\n",
    "from sklearn.metrics import roc_auc_score\n",
    "from sklearn.metrics import accuracy_score\n",
    "from sklearn.metrics import f1_score\n",
    "from sklearn.tree import DecisionTreeRegressor\n",
    "from sklearn.ensemble import AdaBoostRegressor\n",
    "from sklearn.ensemble import RandomForestRegressor\n",
    "from sklearn.model_selection import cross_val_score"
   ]
  },
  {
   "cell_type": "markdown",
   "metadata": {},
   "source": [
    "### Se definen las funciones principales de AdaBoost y Árbol de decisión. La función principal es dt(), esta recibe como párametros el conjunto de pruebas y entrenamiento en ese órden (ambos como un objeto pandas dataframe).\n",
    "\n",
    "### NOTA: La función dt() ya implementa a la función adaboost() con la que ajusta al modelo de árboles de decisión un Regresor de AdaBoost"
   ]
  },
  {
   "cell_type": "code",
   "execution_count": 2,
   "metadata": {},
   "outputs": [],
   "source": [
    "def adaboost(model, trainX, trainY,testX, testY):\n",
    "    rng = np.random.RandomState(1)\n",
    "    ada = AdaBoostRegressor(model, n_estimators=300, learning_rate=0.4700)\n",
    "    ada = ada.fit(trainX, trainY)\n",
    "    predictions = ada.predict(testX)\n",
    "    print(\"Decision Tree w/ adaboost:\")\n",
    "    print(\"ROC:\",roc_auc_score(testY, predictions),\"ACC:\", accuracy_score(testY, predictions), \"F1:\", f1_score(testY, predictions))\n",
    "\n",
    "\n",
    "def dt(test, train):\n",
    "    test_Y = test['carga_aprobada'].to_numpy()\n",
    "    del test[\"carga_aprobada\"]\n",
    "    test_X = test.to_numpy()\n",
    "    train_Y = train['carga_aprobada'].to_numpy()\n",
    "    del train[\"carga_aprobada\"]\n",
    "    train_X = train.to_numpy()\n",
    "    #dtree = DecisionTreeClassifier()\n",
    "    dtree = DecisionTreeRegressor()\n",
    "    dtree = dtree.fit(train_X, train_Y)\n",
    "    predictions = dtree.predict(test_X)\n",
    "    print(\"Decision tree:\")\n",
    "    print(\"ROC:\",roc_auc_score(test_Y, predictions),\"ACC:\", accuracy_score(test_Y, predictions), \"F1:\", f1_score(test_Y, predictions))\n",
    "    adaboost(model=dtree, trainX=train_X, trainY=train_Y, testX=test_X, testY=test_Y)\n",
    "#     randomforest(trainX=train_X, trainY=train_Y, testX=test_X, testY=test_Y)"
   ]
  },
  {
   "cell_type": "markdown",
   "metadata": {},
   "source": [
    "### Se leen los datos de pruebas y entrenamiento"
   ]
  },
  {
   "cell_type": "code",
   "execution_count": 42,
   "metadata": {},
   "outputs": [
    {
     "data": {
      "text/plain": [
       "(12140, 24)"
      ]
     },
     "execution_count": 42,
     "metadata": {},
     "output_type": "execute_result"
    }
   ],
   "source": [
    "test = pd.read_csv('../Data/test.csv', encoding='Latin1')\n",
    "test.shape"
   ]
  },
  {
   "cell_type": "code",
   "execution_count": 43,
   "metadata": {},
   "outputs": [
    {
     "data": {
      "text/plain": [
       "24"
      ]
     },
     "execution_count": 43,
     "metadata": {},
     "output_type": "execute_result"
    }
   ],
   "source": [
    "train = pd.read_csv('../Data/train.csv', encoding='Latin1')\n",
    "train.shape[1]"
   ]
  },
  {
   "cell_type": "markdown",
   "metadata": {},
   "source": [
    "### Se llama a la función principal"
   ]
  },
  {
   "cell_type": "code",
   "execution_count": 44,
   "metadata": {},
   "outputs": [
    {
     "name": "stdout",
     "output_type": "stream",
     "text": [
      "Decision tree:\n",
      "ROC: 0.6286238240297463 ACC: 0.6405271828665569 F1: 0.6997385441034815\n",
      "Decision Tree w/ adaboost:\n",
      "ROC: 0.6960082380705308 ACC: 0.7090609555189457 F1: 0.7610930735930737\n"
     ]
    }
   ],
   "source": [
    "dt(test=test, train=train)"
   ]
  }
 ],
 "metadata": {
  "interpreter": {
   "hash": "30ed51b7def0f20709a03234871a17d93789e3ea3a3d53f1619d2f6abf546e8d"
  },
  "kernelspec": {
   "display_name": "Python 3",
   "language": "python",
   "name": "python3"
  },
  "language_info": {
   "codemirror_mode": {
    "name": "ipython",
    "version": 3
   },
   "file_extension": ".py",
   "mimetype": "text/x-python",
   "name": "python",
   "nbconvert_exporter": "python",
   "pygments_lexer": "ipython3",
   "version": "3.6.13"
  }
 },
 "nbformat": 4,
 "nbformat_minor": 4
}
