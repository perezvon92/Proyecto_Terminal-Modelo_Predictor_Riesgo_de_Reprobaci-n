{
 "cells": [
  {
   "cell_type": "markdown",
   "id": "7012b193",
   "metadata": {},
   "source": [
    "## Modelo de regresión logística para variable etiqueta: *carga_aprobada*"
   ]
  },
  {
   "cell_type": "code",
   "execution_count": 1,
   "id": "87384414",
   "metadata": {},
   "outputs": [
    {
     "name": "stderr",
     "output_type": "stream",
     "text": [
      "Warning message:\n",
      "\"package 'dplyr' was built under R version 3.6.3\"\n",
      "Attaching package: 'dplyr'\n",
      "\n",
      "The following object is masked from 'package:MASS':\n",
      "\n",
      "    select\n",
      "\n",
      "The following objects are masked from 'package:stats':\n",
      "\n",
      "    filter, lag\n",
      "\n",
      "The following objects are masked from 'package:base':\n",
      "\n",
      "    intersect, setdiff, setequal, union\n",
      "\n",
      "Warning message:\n",
      "\"package 'caret' was built under R version 3.6.3\"Loading required package: lattice\n",
      "Loading required package: ggplot2\n",
      "Warning message:\n",
      "\"package 'ggplot2' was built under R version 3.6.3\"Warning message in as.POSIXlt.POSIXct(Sys.time()):\n",
      "\"unable to identify current timezone 'H':\n",
      "please set environment variable 'TZ'\"Warning message:\n",
      "\"package 'pROC' was built under R version 3.6.3\"Type 'citation(\"pROC\")' for a citation.\n",
      "\n",
      "Attaching package: 'pROC'\n",
      "\n",
      "The following objects are masked from 'package:stats':\n",
      "\n",
      "    cov, smooth, var\n",
      "\n",
      "Warning message:\n",
      "\"package 'MLmetrics' was built under R version 3.6.3\"\n",
      "Attaching package: 'MLmetrics'\n",
      "\n",
      "The following objects are masked from 'package:caret':\n",
      "\n",
      "    MAE, RMSE\n",
      "\n",
      "The following object is masked from 'package:base':\n",
      "\n",
      "    Recall\n",
      "\n"
     ]
    }
   ],
   "source": [
    "library(MASS)\n",
    "library(dplyr)\n",
    "library(caret)\n",
    "library(pROC)\n",
    "library(MLmetrics)"
   ]
  },
  {
   "cell_type": "markdown",
   "id": "7a930c0d",
   "metadata": {},
   "source": [
    "Las siguientes 2 celdas son solo para ver la proporción de las clases en el conjunto completo de cargas académicas."
   ]
  },
  {
   "cell_type": "code",
   "execution_count": 3,
   "id": "130a42a9",
   "metadata": {},
   "outputs": [
    {
     "data": {
      "text/html": [
       "23562"
      ],
      "text/latex": [
       "23562"
      ],
      "text/markdown": [
       "23562"
      ],
      "text/plain": [
       "[1] 23562"
      ]
     },
     "metadata": {},
     "output_type": "display_data"
    }
   ],
   "source": [
    "dat <- read.csv(\"../Data/estudiantes.csv\") #datos completos\n",
    "nrow(dat)"
   ]
  },
  {
   "cell_type": "code",
   "execution_count": 4,
   "id": "54e4301c",
   "metadata": {},
   "outputs": [
    {
     "data": {
      "text/plain": [
       "\n",
       "        0         1 \n",
       "0.4059503 0.5940497 "
      ]
     },
     "metadata": {},
     "output_type": "display_data"
    }
   ],
   "source": [
    "prop.table(table(dat$carga_aprobada))"
   ]
  },
  {
   "cell_type": "markdown",
   "id": "9fbd6a88",
   "metadata": {},
   "source": [
    "* Función para gráficar ROC y calcular métricas (Exactitud y Score F1)"
   ]
  },
  {
   "cell_type": "code",
   "execution_count": 5,
   "id": "d11e3600",
   "metadata": {},
   "outputs": [],
   "source": [
    "test_model <- function(model, test){\n",
    "    prob <- model %>% predict(test, type = \"response\")\n",
    "    test$predicted <- ifelse(prob > 0.5, 1, 0)\n",
    "    cat(\"Accuracy: \", mean(test$predicted == test$carga_aprobada),\"\\n\")\n",
    "    cat(\"F1 Score: \", F1_Score(y_pred = test$predicted, y_true = test$carga_aprobada, positive = \"1\"),\"\\n\")\n",
    "    plot.roc(roc(test$carga_aprobada, prob), print.auc=T, print.thres = \"best\", col=\"blue\")\n",
    "    \n",
    "    confusionMatrix(table(test$predicted, test$carga_aprobada), positive = '1')\n",
    "  \n",
    "}"
   ]
  },
  {
   "cell_type": "markdown",
   "id": "fb69ed8f",
   "metadata": {},
   "source": [
    "### Cargar conjunto de entrenamiento\n",
    "\n",
    "(Datos que corresponden a los años 2016 y 2018)."
   ]
  },
  {
   "cell_type": "code",
   "execution_count": 6,
   "id": "6e7d96f6",
   "metadata": {},
   "outputs": [
    {
     "data": {
      "text/html": [
       "11422"
      ],
      "text/latex": [
       "11422"
      ],
      "text/markdown": [
       "11422"
      ],
      "text/plain": [
       "[1] 11422"
      ]
     },
     "metadata": {},
     "output_type": "display_data"
    },
    {
     "data": {
      "text/html": [
       "22"
      ],
      "text/latex": [
       "22"
      ],
      "text/markdown": [
       "22"
      ],
      "text/plain": [
       "[1] 22"
      ]
     },
     "metadata": {},
     "output_type": "display_data"
    }
   ],
   "source": [
    "train <- read.csv(\"../Data/train.csv\")\n",
    "\n",
    "nrow(train)\n",
    "length(names(train))"
   ]
  },
  {
   "cell_type": "markdown",
   "id": "a3cc5221",
   "metadata": {},
   "source": [
    "### Cargar conjunto de prueba\n",
    "\n",
    "(Datos que corresponden a los años 2017 y 2019)."
   ]
  },
  {
   "cell_type": "code",
   "execution_count": 7,
   "id": "0003f521",
   "metadata": {},
   "outputs": [
    {
     "data": {
      "text/html": [
       "12140"
      ],
      "text/latex": [
       "12140"
      ],
      "text/markdown": [
       "12140"
      ],
      "text/plain": [
       "[1] 12140"
      ]
     },
     "metadata": {},
     "output_type": "display_data"
    },
    {
     "data": {
      "text/html": [
       "22"
      ],
      "text/latex": [
       "22"
      ],
      "text/markdown": [
       "22"
      ],
      "text/plain": [
       "[1] 22"
      ]
     },
     "metadata": {},
     "output_type": "display_data"
    }
   ],
   "source": [
    "test <- read.csv(\"../Data/test.csv\")\n",
    "\n",
    "nrow(test)\n",
    "length(names(test))"
   ]
  },
  {
   "cell_type": "code",
   "execution_count": 8,
   "id": "f64d7103",
   "metadata": {},
   "outputs": [
    {
     "data": {
      "text/plain": [
       "\n",
       "        0         1 \n",
       "0.4293469 0.5706531 "
      ]
     },
     "metadata": {},
     "output_type": "display_data"
    },
    {
     "data": {
      "text/plain": [
       "\n",
       "        0         1 \n",
       "0.3839374 0.6160626 "
      ]
     },
     "metadata": {},
     "output_type": "display_data"
    }
   ],
   "source": [
    "prop.table(table(train$carga_aprobada)) \n",
    "prop.table(table(test$carga_aprobada)) "
   ]
  },
  {
   "cell_type": "markdown",
   "id": "5d94aaad",
   "metadata": {},
   "source": [
    "## Modelo inicial"
   ]
  },
  {
   "cell_type": "code",
   "execution_count": 9,
   "id": "5d136f4f",
   "metadata": {},
   "outputs": [
    {
     "data": {
      "text/plain": [
       "\n",
       "Call:\n",
       "glm(formula = carga_aprobada ~ ., family = \"binomial\", data = train)\n",
       "\n",
       "Deviance Residuals: \n",
       "    Min       1Q   Median       3Q      Max  \n",
       "-2.4174  -1.0335   0.5602   0.9256   2.8591  \n",
       "\n",
       "Coefficients:\n",
       "                         Estimate Std. Error z value Pr(>|z|)    \n",
       "(Intercept)            -2.4941991  0.3422449  -7.288 3.15e-13 ***\n",
       "tasa_rep_carga         -0.1150099  0.0062202 -18.490  < 2e-16 ***\n",
       "ceneval_analitico      -0.0004648  0.0002980  -1.560 0.118854    \n",
       "ceneval_matematico      0.0028481  0.0002847  10.005  < 2e-16 ***\n",
       "ceneval_lengua          0.0011135  0.0003012   3.697 0.000218 ***\n",
       "ceneval_esp             0.0011155  0.0002894   3.854 0.000116 ***\n",
       "tasa_aprob_per_prev     0.6724165  0.0500161  13.444  < 2e-16 ***\n",
       "asigMuchas             -0.0352432  0.0550945  -0.640 0.522376    \n",
       "carrera_IA             -0.1144918  0.1009683  -1.134 0.256821    \n",
       "carrera_IDeIO           0.5235888  0.1293135   4.049 5.14e-05 ***\n",
       "carrera_ILyCS           0.1462399  0.1231475   1.188 0.235023    \n",
       "carrera_II             -0.0073427  0.0915604  -0.080 0.936082    \n",
       "carrera_IE              0.0510502  0.0717443   0.712 0.476738    \n",
       "carrera_NI              0.1527237  0.0679302   2.248 0.024561 *  \n",
       "carrera_TS              0.1298756  0.0712573   1.823 0.068360 .  \n",
       "semestre_Otoño         -0.0885282  0.0465823  -1.900 0.057372 .  \n",
       "complejidad_carga5     -0.1204839  0.0218986  -5.502 3.76e-08 ***\n",
       "año_encurso            -0.0956984  0.0195874  -4.886 1.03e-06 ***\n",
       "total_recursando       -0.1229625  0.0412536  -2.981 0.002876 ** \n",
       "practicante             0.0407298  0.0808266   0.504 0.614320    \n",
       "situacion_Condicionado -0.4263350  0.1330692  -3.204 0.001356 ** \n",
       "situacion_Irregular    -0.8613179  0.0640376 -13.450  < 2e-16 ***\n",
       "---\n",
       "Signif. codes:  0 '***' 0.001 '**' 0.01 '*' 0.05 '.' 0.1 ' ' 1\n",
       "\n",
       "(Dispersion parameter for binomial family taken to be 1)\n",
       "\n",
       "    Null deviance: 15605  on 11421  degrees of freedom\n",
       "Residual deviance: 13308  on 11400  degrees of freedom\n",
       "AIC: 13352\n",
       "\n",
       "Number of Fisher Scoring iterations: 3\n"
      ]
     },
     "metadata": {},
     "output_type": "display_data"
    },
    {
     "name": "stdout",
     "output_type": "stream",
     "text": [
      "Accuracy:  0.7052718 \n",
      "F1 Score:  0.7633285 \n"
     ]
    },
    {
     "name": "stderr",
     "output_type": "stream",
     "text": [
      "Setting levels: control = 0, case = 1\n",
      "Setting direction: controls < cases\n"
     ]
    },
    {
     "data": {
      "text/plain": [
       "Confusion Matrix and Statistics\n",
       "\n",
       "   \n",
       "       0    1\n",
       "  0 2792 1709\n",
       "  1 1869 5770\n",
       "                                          \n",
       "               Accuracy : 0.7053          \n",
       "                 95% CI : (0.6971, 0.7134)\n",
       "    No Information Rate : 0.6161          \n",
       "    P-Value [Acc > NIR] : < 2.2e-16       \n",
       "                                          \n",
       "                  Kappa : 0.3729          \n",
       "                                          \n",
       " Mcnemar's Test P-Value : 0.007857        \n",
       "                                          \n",
       "            Sensitivity : 0.7715          \n",
       "            Specificity : 0.5990          \n",
       "         Pos Pred Value : 0.7553          \n",
       "         Neg Pred Value : 0.6203          \n",
       "             Prevalence : 0.6161          \n",
       "         Detection Rate : 0.4753          \n",
       "   Detection Prevalence : 0.6292          \n",
       "      Balanced Accuracy : 0.6853          \n",
       "                                          \n",
       "       'Positive' Class : 1               \n",
       "                                          "
      ]
     },
     "metadata": {},
     "output_type": "display_data"
    },
    {
     "data": {
      "image/png": "[encoded data removed]",
      "text/plain": [
       "plot without title"
      ]
     },
     "metadata": {},
     "output_type": "display_data"
    }
   ],
   "source": [
    "gpaModel <- glm(carga_aprobada ~ ., data = train, family = \"binomial\")\n",
    "summary(gpaModel) # AIC: 13352\n",
    "test_model(gpaModel, test) # Accuracy:  0.705, AUC: 0.762, F1 Score:  0.7633"
   ]
  },
  {
   "cell_type": "markdown",
   "id": "c415373b",
   "metadata": {},
   "source": [
    "## stepAIC\n",
    "\n",
    "Para obtener el mejor modelo de Regresión Logística se emplea la función *stepAIC*."
   ]
  },
  {
   "cell_type": "code",
   "execution_count": 10,
   "id": "108cf1d6",
   "metadata": {},
   "outputs": [
    {
     "name": "stdout",
     "output_type": "stream",
     "text": [
      "Start:  AIC=13351.64\n",
      "carga_aprobada ~ tasa_rep_carga + ceneval_analitico + ceneval_matematico + \n",
      "    ceneval_lengua + ceneval_esp + tasa_aprob_per_prev + asigMuchas + \n",
      "    carrera_IA + carrera_IDeIO + carrera_ILyCS + carrera_II + \n",
      "    carrera_IE + carrera_NI + carrera_TS + semestre_Otoño + complejidad_carga5 + \n",
      "    año_encurso + total_recursando + practicante + situacion_Condicionado + \n",
      "    situacion_Irregular\n",
      "\n",
      "                         Df Deviance   AIC\n",
      "- carrera_II              1    13308 13350\n",
      "- practicante             1    13308 13350\n",
      "- asigMuchas              1    13308 13350\n",
      "- carrera_IE              1    13308 13350\n",
      "- carrera_IA              1    13309 13351\n",
      "- carrera_ILyCS           1    13309 13351\n",
      "<none>                         13308 13352\n",
      "- ceneval_analitico       1    13310 13352\n",
      "- carrera_TS              1    13311 13353\n",
      "- semestre_Otoño          1    13311 13353\n",
      "- carrera_NI              1    13313 13355\n",
      "- total_recursando        1    13317 13359\n",
      "- situacion_Condicionado  1    13318 13360\n",
      "- ceneval_lengua          1    13321 13363\n",
      "- ceneval_esp             1    13322 13364\n",
      "- carrera_IDeIO           1    13324 13366\n",
      "- año_encurso             1    13332 13374\n",
      "- complejidad_carga5      1    13338 13380\n",
      "- ceneval_matematico      1    13409 13451\n",
      "- situacion_Irregular     1    13489 13531\n",
      "- tasa_aprob_per_prev     1    13491 13533\n",
      "- tasa_rep_carga          1    13682 13724\n",
      "\n",
      "Step:  AIC=13349.64\n",
      "carga_aprobada ~ tasa_rep_carga + ceneval_analitico + ceneval_matematico + \n",
      "    ceneval_lengua + ceneval_esp + tasa_aprob_per_prev + asigMuchas + \n",
      "    carrera_IA + carrera_IDeIO + carrera_ILyCS + carrera_IE + \n",
      "    carrera_NI + carrera_TS + semestre_Otoño + complejidad_carga5 + \n",
      "    año_encurso + total_recursando + practicante + situacion_Condicionado + \n",
      "    situacion_Irregular\n",
      "\n",
      "                         Df Deviance   AIC\n",
      "- practicante             1    13308 13348\n",
      "- asigMuchas              1    13308 13348\n",
      "- carrera_IE              1    13308 13348\n",
      "- carrera_IA              1    13309 13349\n",
      "- carrera_ILyCS           1    13309 13349\n",
      "<none>                         13308 13350\n",
      "- ceneval_analitico       1    13310 13350\n",
      "- semestre_Otoño          1    13311 13351\n",
      "- carrera_TS              1    13312 13352\n",
      "+ carrera_II              1    13308 13352\n",
      "- carrera_NI              1    13314 13354\n",
      "- total_recursando        1    13317 13357\n",
      "- situacion_Condicionado  1    13318 13358\n",
      "- ceneval_lengua          1    13321 13361\n",
      "- ceneval_esp             1    13322 13362\n",
      "- carrera_IDeIO           1    13328 13368\n",
      "- año_encurso             1    13332 13372\n",
      "- complejidad_carga5      1    13338 13378\n",
      "- ceneval_matematico      1    13412 13452\n",
      "- situacion_Irregular     1    13489 13529\n",
      "- tasa_aprob_per_prev     1    13491 13531\n",
      "- tasa_rep_carga          1    13742 13782\n",
      "\n",
      "Step:  AIC=13347.9\n",
      "carga_aprobada ~ tasa_rep_carga + ceneval_analitico + ceneval_matematico + \n",
      "    ceneval_lengua + ceneval_esp + tasa_aprob_per_prev + asigMuchas + \n",
      "    carrera_IA + carrera_IDeIO + carrera_ILyCS + carrera_IE + \n",
      "    carrera_NI + carrera_TS + semestre_Otoño + complejidad_carga5 + \n",
      "    año_encurso + total_recursando + situacion_Condicionado + \n",
      "    situacion_Irregular\n",
      "\n",
      "                         Df Deviance   AIC\n",
      "- asigMuchas              1    13308 13346\n",
      "- carrera_IE              1    13309 13347\n",
      "- carrera_IA              1    13309 13347\n",
      "- carrera_ILyCS           1    13310 13348\n",
      "<none>                         13308 13348\n",
      "- ceneval_analitico       1    13310 13348\n",
      "- semestre_Otoño          1    13311 13349\n",
      "+ practicante             1    13308 13350\n",
      "+ carrera_II              1    13308 13350\n",
      "- carrera_TS              1    13312 13350\n",
      "- carrera_NI              1    13314 13352\n",
      "- total_recursando        1    13317 13355\n",
      "- situacion_Condicionado  1    13318 13356\n",
      "- ceneval_lengua          1    13322 13360\n",
      "- ceneval_esp             1    13323 13361\n",
      "- carrera_IDeIO           1    13328 13366\n",
      "- año_encurso             1    13333 13371\n",
      "- complejidad_carga5      1    13338 13376\n",
      "- ceneval_matematico      1    13412 13450\n",
      "- situacion_Irregular     1    13490 13528\n",
      "- tasa_aprob_per_prev     1    13491 13529\n",
      "- tasa_rep_carga          1    13744 13782\n",
      "\n",
      "Step:  AIC=13346.29\n",
      "carga_aprobada ~ tasa_rep_carga + ceneval_analitico + ceneval_matematico + \n",
      "    ceneval_lengua + ceneval_esp + tasa_aprob_per_prev + carrera_IA + \n",
      "    carrera_IDeIO + carrera_ILyCS + carrera_IE + carrera_NI + \n",
      "    carrera_TS + semestre_Otoño + complejidad_carga5 + año_encurso + \n",
      "    total_recursando + situacion_Condicionado + situacion_Irregular\n",
      "\n",
      "                         Df Deviance   AIC\n",
      "- carrera_IE              1    13309 13345\n",
      "- carrera_IA              1    13310 13346\n",
      "- carrera_ILyCS           1    13310 13346\n",
      "<none>                         13308 13346\n",
      "- ceneval_analitico       1    13311 13347\n",
      "- semestre_Otoño          1    13312 13348\n",
      "+ asigMuchas              1    13308 13348\n",
      "+ practicante             1    13308 13348\n",
      "+ carrera_II              1    13308 13348\n",
      "- carrera_TS              1    13312 13348\n",
      "- carrera_NI              1    13315 13351\n",
      "- total_recursando        1    13317 13353\n",
      "- situacion_Condicionado  1    13318 13354\n",
      "- ceneval_lengua          1    13322 13358\n",
      "- ceneval_esp             1    13323 13359\n",
      "- carrera_IDeIO           1    13329 13365\n",
      "- año_encurso             1    13334 13370\n",
      "- complejidad_carga5      1    13347 13383\n",
      "- ceneval_matematico      1    13412 13448\n",
      "- situacion_Irregular     1    13490 13526\n",
      "- tasa_aprob_per_prev     1    13492 13528\n",
      "- tasa_rep_carga          1    13754 13790\n",
      "\n",
      "Step:  AIC=13344.93\n",
      "carga_aprobada ~ tasa_rep_carga + ceneval_analitico + ceneval_matematico + \n",
      "    ceneval_lengua + ceneval_esp + tasa_aprob_per_prev + carrera_IA + \n",
      "    carrera_IDeIO + carrera_ILyCS + carrera_NI + carrera_TS + \n",
      "    semestre_Otoño + complejidad_carga5 + año_encurso + total_recursando + \n",
      "    situacion_Condicionado + situacion_Irregular\n",
      "\n",
      "                         Df Deviance   AIC\n",
      "- carrera_ILyCS           1    13310 13344\n",
      "- carrera_IA              1    13311 13345\n",
      "<none>                         13309 13345\n",
      "- ceneval_analitico       1    13312 13346\n",
      "+ carrera_IE              1    13308 13346\n",
      "- semestre_Otoño          1    13312 13346\n",
      "- carrera_TS              1    13312 13346\n",
      "+ asigMuchas              1    13309 13347\n",
      "+ practicante             1    13309 13347\n",
      "+ carrera_II              1    13309 13347\n",
      "- carrera_NI              1    13315 13349\n",
      "- total_recursando        1    13318 13352\n",
      "- situacion_Condicionado  1    13319 13353\n",
      "- ceneval_lengua          1    13323 13357\n",
      "- ceneval_esp             1    13324 13358\n",
      "- carrera_IDeIO           1    13329 13363\n",
      "- año_encurso             1    13335 13369\n",
      "- complejidad_carga5      1    13348 13382\n",
      "- ceneval_matematico      1    13412 13446\n",
      "- situacion_Irregular     1    13492 13526\n",
      "- tasa_aprob_per_prev     1    13493 13527\n",
      "- tasa_rep_carga          1    13783 13817\n",
      "\n",
      "Step:  AIC=13344.31\n",
      "carga_aprobada ~ tasa_rep_carga + ceneval_analitico + ceneval_matematico + \n",
      "    ceneval_lengua + ceneval_esp + tasa_aprob_per_prev + carrera_IA + \n",
      "    carrera_IDeIO + carrera_NI + carrera_TS + semestre_Otoño + \n",
      "    complejidad_carga5 + año_encurso + total_recursando + situacion_Condicionado + \n",
      "    situacion_Irregular\n",
      "\n",
      "                         Df Deviance   AIC\n",
      "<none>                         13310 13344\n",
      "- carrera_IA              1    13313 13345\n",
      "- ceneval_analitico       1    13313 13345\n",
      "+ carrera_ILyCS           1    13309 13345\n",
      "- carrera_TS              1    13314 13346\n",
      "- semestre_Otoño          1    13314 13346\n",
      "+ carrera_II              1    13310 13346\n",
      "+ asigMuchas              1    13310 13346\n",
      "+ carrera_IE              1    13310 13346\n",
      "+ practicante             1    13310 13346\n",
      "- carrera_NI              1    13316 13348\n",
      "- total_recursando        1    13319 13351\n",
      "- situacion_Condicionado  1    13320 13352\n",
      "- ceneval_lengua          1    13324 13356\n",
      "- ceneval_esp             1    13325 13357\n",
      "- carrera_IDeIO           1    13329 13361\n",
      "- año_encurso             1    13335 13367\n",
      "- complejidad_carga5      1    13349 13381\n",
      "- ceneval_matematico      1    13414 13446\n",
      "- situacion_Irregular     1    13493 13525\n",
      "- tasa_aprob_per_prev     1    13494 13526\n",
      "- tasa_rep_carga          1    13790 13822\n"
     ]
    },
    {
     "data": {
      "text/plain": [
       "\n",
       "Call:\n",
       "glm(formula = carga_aprobada ~ tasa_rep_carga + ceneval_analitico + \n",
       "    ceneval_matematico + ceneval_lengua + ceneval_esp + tasa_aprob_per_prev + \n",
       "    carrera_IA + carrera_IDeIO + carrera_NI + carrera_TS + semestre_Otoño + \n",
       "    complejidad_carga5 + año_encurso + total_recursando + situacion_Condicionado + \n",
       "    situacion_Irregular, family = \"binomial\", data = train)\n",
       "\n",
       "Deviance Residuals: \n",
       "    Min       1Q   Median       3Q      Max  \n",
       "-2.4116  -1.0324   0.5598   0.9251   2.8329  \n",
       "\n",
       "Coefficients:\n",
       "                         Estimate Std. Error z value Pr(>|z|)    \n",
       "(Intercept)            -2.5012823  0.3268858  -7.652 1.98e-14 ***\n",
       "tasa_rep_carga         -0.1140857  0.0054924 -20.772  < 2e-16 ***\n",
       "ceneval_analitico      -0.0004692  0.0002975  -1.577 0.114741    \n",
       "ceneval_matematico      0.0028278  0.0002788  10.143  < 2e-16 ***\n",
       "ceneval_lengua          0.0011274  0.0003009   3.747 0.000179 ***\n",
       "ceneval_esp             0.0011194  0.0002892   3.870 0.000109 ***\n",
       "tasa_aprob_per_prev     0.6735725  0.0499875  13.475  < 2e-16 ***\n",
       "carrera_IA             -0.1398719  0.0893100  -1.566 0.117316    \n",
       "carrera_IDeIO           0.5002604  0.1141969   4.381 1.18e-05 ***\n",
       "carrera_NI              0.1285391  0.0557127   2.307 0.021045 *  \n",
       "carrera_TS              0.1067849  0.0598383   1.785 0.074333 .  \n",
       "semestre_Otoño         -0.0850806  0.0462434  -1.840 0.065791 .  \n",
       "complejidad_carga5     -0.1250621  0.0201380  -6.210 5.29e-10 ***\n",
       "año_encurso            -0.0891249  0.0178255  -5.000 5.74e-07 ***\n",
       "total_recursando       -0.1225358  0.0411020  -2.981 0.002871 ** \n",
       "situacion_Condicionado -0.4217602  0.1322407  -3.189 0.001426 ** \n",
       "situacion_Irregular    -0.8619251  0.0637238 -13.526  < 2e-16 ***\n",
       "---\n",
       "Signif. codes:  0 '***' 0.001 '**' 0.01 '*' 0.05 '.' 0.1 ' ' 1\n",
       "\n",
       "(Dispersion parameter for binomial family taken to be 1)\n",
       "\n",
       "    Null deviance: 15605  on 11421  degrees of freedom\n",
       "Residual deviance: 13310  on 11405  degrees of freedom\n",
       "AIC: 13344\n",
       "\n",
       "Number of Fisher Scoring iterations: 3\n"
      ]
     },
     "metadata": {},
     "output_type": "display_data"
    }
   ],
   "source": [
    "mod_both <- stepAIC(gpaModel, direction = \"both\")\n",
    "summary(mod_both) #AIC: 13344"
   ]
  },
  {
   "cell_type": "code",
   "execution_count": 11,
   "id": "742c60b0",
   "metadata": {},
   "outputs": [
    {
     "name": "stdout",
     "output_type": "stream",
     "text": [
      "Accuracy:  0.7057661 \n",
      "F1 Score:  0.7635377 \n"
     ]
    },
    {
     "name": "stderr",
     "output_type": "stream",
     "text": [
      "Setting levels: control = 0, case = 1\n",
      "Setting direction: controls < cases\n"
     ]
    },
    {
     "data": {
      "text/plain": [
       "Confusion Matrix and Statistics\n",
       "\n",
       "   \n",
       "       0    1\n",
       "  0 2801 1712\n",
       "  1 1860 5767\n",
       "                                          \n",
       "               Accuracy : 0.7058          \n",
       "                 95% CI : (0.6976, 0.7139)\n",
       "    No Information Rate : 0.6161          \n",
       "    P-Value [Acc > NIR] : < 2e-16         \n",
       "                                          \n",
       "                  Kappa : 0.3743          \n",
       "                                          \n",
       " Mcnemar's Test P-Value : 0.01391         \n",
       "                                          \n",
       "            Sensitivity : 0.7711          \n",
       "            Specificity : 0.6009          \n",
       "         Pos Pred Value : 0.7561          \n",
       "         Neg Pred Value : 0.6207          \n",
       "             Prevalence : 0.6161          \n",
       "         Detection Rate : 0.4750          \n",
       "   Detection Prevalence : 0.6283          \n",
       "      Balanced Accuracy : 0.6860          \n",
       "                                          \n",
       "       'Positive' Class : 1               \n",
       "                                          "
      ]
     },
     "metadata": {},
     "output_type": "display_data"
    },
    {
     "data": {
      "image/png": "[encoded data removed]",
      "text/plain": [
       "plot without title"
      ]
     },
     "metadata": {},
     "output_type": "display_data"
    }
   ],
   "source": [
    "test_model(mod_both, test) # Accuracy: 0.7057661, AUC: 0.763, F1 Score:  0.7635377"
   ]
  },
  {
   "cell_type": "markdown",
   "id": "0bd6f39e",
   "metadata": {},
   "source": [
    "## Resultados\n",
    "\n",
    "|                | Modelo inicial  | Modelo stepAIC |\n",
    "| :---:          | :---:           | :----:         |\n",
    "|**AIC**         | 13,352          | 13,344         | \n",
    "|**Accuracy**    | 0.705           | 0.706          | \n",
    "|**AUC**         | 0.762           | 0.763          | \n",
    "|**Sensitivity** | 0.7715          | 0.7711         |\n",
    "|**Specificity** | 0.5990          | 0.6009         |\n",
    "|**F1-Score**    | 0.7633          | 0.7635         |\n",
    "\n",
    "  \n"
   ]
  },
  {
   "cell_type": "markdown",
   "id": "5f8e793e",
   "metadata": {},
   "source": [
    "A pesar de tener un valor Akaike menor, el modelo resultante al usar la función stepAIC realmente no presenta diferencias en el resto de las métricas comparándolo con el modelo inicial."
   ]
  }
 ],
 "metadata": {
  "kernelspec": {
   "display_name": "R",
   "language": "R",
   "name": "ir"
  },
  "language_info": {
   "codemirror_mode": "r",
   "file_extension": ".r",
   "mimetype": "text/x-r-source",
   "name": "R",
   "pygments_lexer": "r",
   "version": "3.6.1"
  }
 },
 "nbformat": 4,
 "nbformat_minor": 5
}
