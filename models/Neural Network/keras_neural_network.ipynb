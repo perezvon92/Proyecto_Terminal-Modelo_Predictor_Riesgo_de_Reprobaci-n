{
 "cells": [
  {
   "cell_type": "markdown",
   "id": "5f881d8b-8c54-4c95-80ff-e537ee48232e",
   "metadata": {},
   "source": [
    "# MODELO PREDICTOR DE REPROBACIÓN CON REDES NEURONALES UTILANDO KERAS"
   ]
  },
  {
   "cell_type": "code",
   "execution_count": 2,
   "id": "1f2c57ae-9f28-4866-8346-1cad702bce5c",
   "metadata": {},
   "outputs": [],
   "source": [
    "import tensorflow as tf\n",
    "from tensorflow import keras\n",
    "from tensorflow.keras.models import Sequential \n",
    "from tensorflow.keras.layers import Dense\n",
    "from tensorflow.keras import layers\n",
    "import keras_tuner as kt\n",
    "from keras_tuner import HyperModel, Objective\n",
    "from keras_tuner.tuners import BayesianOptimization, Hyperband\n",
    "from tensorflow.keras import backend as K\n",
    "from numpy import loadtxt\n",
    "import pandas as pd"
   ]
  },
  {
   "cell_type": "code",
   "execution_count": 4,
   "id": "82fb3293-ee23-4214-ab11-c3db9bc064a9",
   "metadata": {},
   "outputs": [
    {
     "name": "stdout",
     "output_type": "stream",
     "text": [
      "tensorflow: 2.6.1\n",
      "keras: 2.6.0\n"
     ]
    }
   ],
   "source": [
    "print('tensorflow: %s' % tf.__version__)\n",
    "print('keras: %s' % keras.__version__)"
   ]
  },
  {
   "cell_type": "markdown",
   "id": "15e74d5f-202a-4fef-a90d-dc4b257dc5e7",
   "metadata": {},
   "source": [
    "# FUENTES DE CONSULTA\n",
    "\n",
    "https://machinelearningmastery.com/tutorial-first-neural-network-python-keras/\n",
    "\n",
    "https://keras.io/guides/keras_tuner/getting_started/\n",
    "\n",
    "https://www.kaggle.com/pratsbhatt/keras-tuner-with-bayesian-optimization"
   ]
  },
  {
   "cell_type": "markdown",
   "id": "ac068058-e0c4-48d4-9762-c7a968142dce",
   "metadata": {},
   "source": [
    "## importar datos de entrenamiento"
   ]
  },
  {
   "cell_type": "code",
   "execution_count": 5,
   "id": "b90de3bc-2d39-479b-a01e-6b5b3467487c",
   "metadata": {},
   "outputs": [
    {
     "data": {
      "text/plain": [
       "Index(['tasa_rep_carga', 'ceneval_analitico', 'ceneval_matematico',\n",
       "       'ceneval_lengua', 'ceneval_esp', 'tasa_aprob_per_prev', 'asigMuchas',\n",
       "       'carrera_IA', 'carrera_IDeIO', 'carrera_ILyCS', 'carrera_II',\n",
       "       'carrera_IE', 'carrera_NI', 'carrera_TS', 'semestre_Oto�o',\n",
       "       'complejidad_carga5', 'a�o_encurso', 'carga_aprobada',\n",
       "       'total_recursando', 'practicante', 'situacion_Condicionado',\n",
       "       'situacion_Irregular'],\n",
       "      dtype='object')"
      ]
     },
     "execution_count": 5,
     "metadata": {},
     "output_type": "execute_result"
    }
   ],
   "source": [
    "# CONJUNTO DE ENTRENAMIENTO\n",
    "train= pd.read_csv(\"predictores_train_VIF.csv\")\n",
    "train.columns"
   ]
  },
  {
   "cell_type": "code",
   "execution_count": 7,
   "id": "d5a1bdba-74e2-45e6-9d2e-5f43a2cf851e",
   "metadata": {},
   "outputs": [
    {
     "data": {
      "text/plain": [
       "array([[6.79137307e+00, 1.03000000e+03, 9.40000000e+02, ...,\n",
       "        0.00000000e+00, 0.00000000e+00, 0.00000000e+00],\n",
       "       [1.20736058e+01, 1.03000000e+03, 9.40000000e+02, ...,\n",
       "        1.00000000e+00, 0.00000000e+00, 1.00000000e+00],\n",
       "       [9.72222222e+00, 1.03000000e+03, 9.40000000e+02, ...,\n",
       "        1.00000000e+00, 0.00000000e+00, 0.00000000e+00],\n",
       "       ...,\n",
       "       [1.24444444e+01, 1.06000000e+03, 1.11000000e+03, ...,\n",
       "        0.00000000e+00, 0.00000000e+00, 0.00000000e+00],\n",
       "       [8.19396669e+00, 1.06000000e+03, 1.03600000e+03, ...,\n",
       "        0.00000000e+00, 0.00000000e+00, 0.00000000e+00],\n",
       "       [6.47581993e+00, 1.06000000e+03, 1.03600000e+03, ...,\n",
       "        0.00000000e+00, 0.00000000e+00, 0.00000000e+00]])"
      ]
     },
     "execution_count": 7,
     "metadata": {},
     "output_type": "execute_result"
    }
   ],
   "source": [
    "x1 = train.loc[:, train.columns != \"carga_aprobada\"]"
   ]
  },
  {
   "cell_type": "code",
   "execution_count": 8,
   "id": "a4c89b5e-a630-4b11-8038-897db0249d6b",
   "metadata": {},
   "outputs": [
    {
     "data": {
      "text/plain": [
       "array([0, 0, 1, ..., 1, 1, 1])"
      ]
     },
     "execution_count": 8,
     "metadata": {},
     "output_type": "execute_result"
    }
   ],
   "source": [
    "# ETIQUETAS DEL CONJUNTO DE ENTRENAMIENTO\n",
    "y1 = train.loc[:, train.columns == \"carga_aprobada\"]"
   ]
  },
  {
   "cell_type": "markdown",
   "id": "dd70ace4-3a3c-4128-94ac-b569a8495ffc",
   "metadata": {},
   "source": [
    "## se importa el conjunto de datos para la validación"
   ]
  },
  {
   "cell_type": "code",
   "execution_count": 9,
   "id": "aadf632d-fa46-414d-a234-ec68854646c1",
   "metadata": {},
   "outputs": [
    {
     "data": {
      "text/plain": [
       "Index(['tasa_rep_carga', 'ceneval_analitico', 'ceneval_matematico',\n",
       "       'ceneval_lengua', 'ceneval_esp', 'tasa_aprob_per_prev', 'asigMuchas',\n",
       "       'carrera_IA', 'carrera_IDeIO', 'carrera_ILyCS', 'carrera_II',\n",
       "       'carrera_IE', 'carrera_NI', 'carrera_TS', 'semestre_Otoño',\n",
       "       'complejidad_carga5', 'año_encurso', 'carga_aprobada',\n",
       "       'total_recursando', 'practicante', 'situacion_Condicionado',\n",
       "       'situacion_Irregular'],\n",
       "      dtype='object')"
      ]
     },
     "execution_count": 9,
     "metadata": {},
     "output_type": "execute_result"
    }
   ],
   "source": [
    "# CONJUNTO DE VALIDACION\n",
    "test= pd.read_csv(\"test_final.csv\")\n",
    "test.columns"
   ]
  },
  {
   "cell_type": "markdown",
   "id": "48703ce8-fa13-4f73-92ce-0f8895060e92",
   "metadata": {},
   "source": [
    "## x2 y y2 son los predictores y etiquetas del conjunto de validacion respectivamente\n",
    "## para uso del tuner estos se dividen a la mitad resultando en x2 y x3, asi como y2 y y3.\n",
    "## los nuevos x2 y y2 se utilizan para la validacion durante el proceso de keras tuner\n",
    "## x3 y y3 se utilizan para una última validación del mejor modelo resultante, importante saber que estos datos no jugaron ningun papel durante el entrenamiento"
   ]
  },
  {
   "cell_type": "code",
   "execution_count": 10,
   "id": "571cab82-1a7c-4691-a9b2-e47d2f7637a5",
   "metadata": {},
   "outputs": [],
   "source": [
    "# PREDICTORES VALIDACION\n",
    "x2 = test.loc[:, test.columns != \"carga_aprobada\"]"
   ]
  },
  {
   "cell_type": "code",
   "execution_count": 11,
   "id": "0808bbc0-8480-4f4a-b401-34c60e0331d3",
   "metadata": {},
   "outputs": [
    {
     "data": {
      "text/plain": [
       "6070.0"
      ]
     },
     "execution_count": 11,
     "metadata": {},
     "output_type": "execute_result"
    }
   ],
   "source": [
    "len(x2)/2"
   ]
  },
  {
   "cell_type": "code",
   "execution_count": 12,
   "id": "e4c1d0f4-706f-4e2e-8c85-01a70b93cd54",
   "metadata": {},
   "outputs": [],
   "source": [
    "# divide x2 in 2 halves, x2 & x3\n",
    "x3 = x2.iloc[6070: , :]"
   ]
  },
  {
   "cell_type": "code",
   "execution_count": 13,
   "id": "42bb64dc-b2b6-4a74-ba0b-e26adfc4d4e9",
   "metadata": {},
   "outputs": [],
   "source": [
    "x2 = x2.iloc[:6070 , :]"
   ]
  },
  {
   "cell_type": "code",
   "execution_count": 14,
   "id": "2127b8e6-9f43-4604-aea1-39003da9093c",
   "metadata": {},
   "outputs": [],
   "source": [
    "# ETIQUETAS VALIDACION\n",
    "y2 = test.loc[:, test.columns == \"carga_aprobada\"]"
   ]
  },
  {
   "cell_type": "code",
   "execution_count": 15,
   "id": "7b8ab5cd-a630-40d2-8ec2-bcacbb6b0b92",
   "metadata": {},
   "outputs": [],
   "source": [
    "y3 = y2.iloc[6070: , :] #y3 is og y2 second half"
   ]
  },
  {
   "cell_type": "code",
   "execution_count": 16,
   "id": "3c880991-e199-4ecb-8685-7fdeb51196b5",
   "metadata": {},
   "outputs": [],
   "source": [
    "y2 = y2.iloc[:6070 , :]"
   ]
  },
  {
   "cell_type": "markdown",
   "id": "ba61c566-c0f1-4a45-811a-66d369ab3e76",
   "metadata": {},
   "source": [
    "# KERAS_TUNER"
   ]
  },
  {
   "cell_type": "markdown",
   "id": "fd3ede30-5a2d-4346-a014-8b562c063817",
   "metadata": {},
   "source": [
    "## el keras tuner itera diferentes versiones de modelos variando hiperparametros en cada vuelta\n",
    "## va almacenando info de cada modelo la cual se puede consultar al final"
   ]
  },
  {
   "cell_type": "code",
   "execution_count": 17,
   "id": "d6a33622-6354-4f0c-96c3-b6cc235d08e6",
   "metadata": {},
   "outputs": [],
   "source": [
    "# F-1 SE DEFINE FUNCION PARA USARLA COMO METRICA DURANTE EL ENTRENAMIENTO\n",
    "def f1(y_true, y_pred):\n",
    "    y_pred = K.round(y_pred)\n",
    "    tp = K.sum(K.cast(y_true*y_pred, 'float'), axis=0)\n",
    "    # tn = K.sum(K.cast((1-y_true)*(1-y_pred), 'float'), axis=0)\n",
    "    fp = K.sum(K.cast((1-y_true)*y_pred, 'float'), axis=0)\n",
    "    fn = K.sum(K.cast(y_true*(1-y_pred), 'float'), axis=0)\n",
    "\n",
    "    p = tp / (tp + fp + K.epsilon())\n",
    "    r = tp / (tp + fn + K.epsilon())\n",
    "\n",
    "    f1 = 2*p*r / (p+r+K.epsilon())\n",
    "    f1 = tf.where(tf.math.is_nan(f1), tf.zeros_like(f1), f1)\n",
    "    return K.mean(f1)"
   ]
  },
  {
   "cell_type": "markdown",
   "id": "ba4fe7ef-ccaf-460b-b6dc-4cc1668a5526",
   "metadata": {},
   "source": [
    "## primero debe definirse un hipermodelo, como un prototipo donde se definen caracterisitcas del modelo:\n",
    "## número de capas, nodos, metodos de activacion, optimizador, metricas, etc."
   ]
  },
  {
   "cell_type": "code",
   "execution_count": 18,
   "id": "547205ae-4f7d-45aa-b160-ff2c5ecbb619",
   "metadata": {},
   "outputs": [],
   "source": [
    "# Create the keras tuner model.\n",
    "class MyHyperModel(HyperModel):\n",
    "    \n",
    "    def build(self, hp):\n",
    "        model = Sequential()\n",
    "        model.add(layers.InputLayer( input_shape=(21,) )) # PRIMERA CAPA CON UN NODO POR CADA ATRIBUTO        \n",
    "        for i in range(hp.Int(\"num_layers\", 1, 3)): # PARA NUMERO DE CAPAS ENTRE 1 Y 2\n",
    "            model.add(\n",
    "                layers.Dense(\n",
    "                    units=hp.Int(\"units_\" + str(i), min_value=2, max_value=42, step=2), # AGREGARA CAPAS CON NODOS ENTRE 2 Y 42\n",
    "                    activation=\"relu\",\n",
    "                )\n",
    "            )\n",
    "        \n",
    "        model.add(layers.Dense(1, activation=\"sigmoid\")) # CAPA FINAL\n",
    "        \n",
    "        model.compile(\n",
    "            optimizer=hp.Choice('optimizer', values= ['Adam', 'Adadelta', 'Adamax']),\n",
    "            loss='binary_crossentropy',\n",
    "            metrics=[f1, 'accuracy','AUC','Precision','Recall']) # METRICA F1 CREADA\n",
    "        \n",
    "        return model"
   ]
  },
  {
   "cell_type": "markdown",
   "id": "d6ee38ed-68ba-4f1d-a1b1-65d4e07feb95",
   "metadata": {},
   "source": [
    "## se inicializa un objeto del hipermodelo para utilizarlo en el objeto tuner\n",
    "## el tuner es el iterador como tal y se definen otros parametros\n",
    "## existen varios tipos de tuner, en este caso el objetivo o metrica principal es el f1"
   ]
  },
  {
   "cell_type": "code",
   "execution_count": 19,
   "id": "73c3ffa0-6368-4341-a26e-58637c79dbee",
   "metadata": {},
   "outputs": [],
   "source": [
    "hypermodel = MyHyperModel()\n",
    "\n",
    "# TUNER PARA AFINAR HIPERPARAMETROS\n",
    "# TUNER HYPERBAND, MAS EFICIENTE COMPUTACIONALMENTE\n",
    "\n",
    "tuner = Hyperband(\n",
    "    hypermodel,\n",
    "    objective=Objective('val_f1', direction=\"max\"), # OBJETIVO: MAXIMIZAR F1\n",
    "    max_epochs=30,\n",
    "    factor=3,\n",
    "    hyperband_iterations=2,\n",
    "    seed=None,\n",
    "    hyperparameters=None,\n",
    "    tune_new_entries=True,\n",
    "    allow_new_entries=True,\n",
    "    directory=\"newdir20\" # CAMBIAR NOMBRE SI BUSQUEDA ARROJA: INFO:tensorflow:Oracle triggered exit\n",
    ")"
   ]
  },
  {
   "cell_type": "code",
   "execution_count": 20,
   "id": "57bd0b3b-cd64-4854-a200-ea6b2252da2f",
   "metadata": {},
   "outputs": [
    {
     "name": "stdout",
     "output_type": "stream",
     "text": [
      "Search space summary\n",
      "Default search space size: 3\n",
      "num_layers (Int)\n",
      "{'default': None, 'conditions': [], 'min_value': 1, 'max_value': 3, 'step': 1, 'sampling': None}\n",
      "units_0 (Int)\n",
      "{'default': None, 'conditions': [], 'min_value': 2, 'max_value': 42, 'step': 2, 'sampling': None}\n",
      "optimizer (Choice)\n",
      "{'default': 'Adam', 'conditions': [], 'values': ['Adam', 'Adadelta', 'Adamax'], 'ordered': False}\n"
     ]
    }
   ],
   "source": [
    "tuner.search_space_summary() # IMPRIMIR CARACTERISTICAS DEL TUNER"
   ]
  },
  {
   "cell_type": "markdown",
   "id": "48e74e43-bd80-4a9d-9d91-4b9f6e976634",
   "metadata": {},
   "source": [
    "## despues se ejecuta la busqueda, siempre señalando el mejor resultado encontrado\n",
    "## hasta el momento se ejecuta un numero de pruebas indeterminado y se detiene "
   ]
  },
  {
   "cell_type": "code",
   "execution_count": 21,
   "id": "eca7f0c5-1af6-4f1f-aa9f-4fda418836a8",
   "metadata": {},
   "outputs": [
    {
     "name": "stdout",
     "output_type": "stream",
     "text": [
      "Trial 180 Complete [00h 00m 20s]\n",
      "val_f1: 0.7708594799041748\n",
      "\n",
      "Best val_f1 So Far: 0.774045467376709\n",
      "Total elapsed time: 00h 17m 46s\n",
      "INFO:tensorflow:Oracle triggered exit\n"
     ]
    }
   ],
   "source": [
    "#model2.fit(x1.to_numpy(), y1.carga_aprobada.to_numpy(), epochs=1000, batch_size=1)\n",
    "tuner.search(x1.to_numpy(),y1.carga_aprobada.to_numpy(),\n",
    "             epochs=10, validation_data=(x2.to_numpy(),y2.carga_aprobada.to_numpy()))"
   ]
  },
  {
   "cell_type": "markdown",
   "id": "baec2fc8-c52e-4c09-80c7-cf41944abe72",
   "metadata": {},
   "source": [
    "## resumen de los resultados"
   ]
  },
  {
   "cell_type": "code",
   "execution_count": 22,
   "id": "64b2bc7b-f9fe-4a91-9265-a7b0b8addfe9",
   "metadata": {},
   "outputs": [
    {
     "name": "stdout",
     "output_type": "stream",
     "text": [
      "Results summary\n",
      "Results in newdir20/untitled_project\n",
      "Showing 10 best trials\n",
      "Objective(name='val_f1', direction='max')\n",
      "Trial summary\n",
      "Hyperparameters:\n",
      "num_layers: 1\n",
      "units_0: 24\n",
      "optimizer: Adamax\n",
      "units_1: 12\n",
      "units_2: 18\n",
      "tuner/epochs: 30\n",
      "tuner/initial_epoch: 10\n",
      "tuner/bracket: 2\n",
      "tuner/round: 2\n",
      "tuner/trial_id: f2780735a07ffebb5d1cd568ea87d22e\n",
      "Score: 0.774045467376709\n",
      "Trial summary\n",
      "Hyperparameters:\n",
      "num_layers: 2\n",
      "units_0: 20\n",
      "optimizer: Adamax\n",
      "units_1: 12\n",
      "units_2: 16\n",
      "tuner/epochs: 10\n",
      "tuner/initial_epoch: 0\n",
      "tuner/bracket: 1\n",
      "tuner/round: 0\n",
      "Score: 0.7734240889549255\n",
      "Trial summary\n",
      "Hyperparameters:\n",
      "num_layers: 2\n",
      "units_0: 12\n",
      "optimizer: Adam\n",
      "units_1: 4\n",
      "units_2: 28\n",
      "tuner/epochs: 4\n",
      "tuner/initial_epoch: 0\n",
      "tuner/bracket: 2\n",
      "tuner/round: 0\n",
      "Score: 0.7732095718383789\n",
      "Trial summary\n",
      "Hyperparameters:\n",
      "num_layers: 2\n",
      "units_0: 30\n",
      "optimizer: Adam\n",
      "units_1: 24\n",
      "units_2: 36\n",
      "tuner/epochs: 30\n",
      "tuner/initial_epoch: 10\n",
      "tuner/bracket: 3\n",
      "tuner/round: 3\n",
      "tuner/trial_id: 0a0438d86f6396074a90e02b17aaa9c7\n",
      "Score: 0.7729024887084961\n",
      "Trial summary\n",
      "Hyperparameters:\n",
      "num_layers: 2\n",
      "units_0: 20\n",
      "optimizer: Adam\n",
      "units_1: 18\n",
      "units_2: 20\n",
      "tuner/epochs: 30\n",
      "tuner/initial_epoch: 0\n",
      "tuner/bracket: 0\n",
      "tuner/round: 0\n",
      "Score: 0.7723564505577087\n",
      "Trial summary\n",
      "Hyperparameters:\n",
      "num_layers: 2\n",
      "units_0: 30\n",
      "optimizer: Adam\n",
      "units_1: 24\n",
      "units_2: 36\n",
      "tuner/epochs: 10\n",
      "tuner/initial_epoch: 4\n",
      "tuner/bracket: 3\n",
      "tuner/round: 2\n",
      "tuner/trial_id: 4ed65ca8f2d6746a981e9bc20a3a0d9e\n",
      "Score: 0.7715768814086914\n",
      "Trial summary\n",
      "Hyperparameters:\n",
      "num_layers: 3\n",
      "units_0: 30\n",
      "optimizer: Adam\n",
      "units_1: 16\n",
      "units_2: 12\n",
      "tuner/epochs: 2\n",
      "tuner/initial_epoch: 0\n",
      "tuner/bracket: 3\n",
      "tuner/round: 0\n",
      "Score: 0.7715038061141968\n",
      "Trial summary\n",
      "Hyperparameters:\n",
      "num_layers: 2\n",
      "units_0: 22\n",
      "optimizer: Adamax\n",
      "units_1: 22\n",
      "units_2: 14\n",
      "tuner/epochs: 30\n",
      "tuner/initial_epoch: 10\n",
      "tuner/bracket: 1\n",
      "tuner/round: 1\n",
      "tuner/trial_id: 1cfa24d8a1d83a08df5a1158c3ce51f6\n",
      "Score: 0.7713934779167175\n",
      "Trial summary\n",
      "Hyperparameters:\n",
      "num_layers: 2\n",
      "units_0: 26\n",
      "optimizer: Adam\n",
      "units_1: 20\n",
      "units_2: 42\n",
      "tuner/epochs: 30\n",
      "tuner/initial_epoch: 10\n",
      "tuner/bracket: 1\n",
      "tuner/round: 1\n",
      "tuner/trial_id: abdfc5ea50e4aaa5605b28e04e72ee8d\n",
      "Score: 0.7712832689285278\n",
      "Trial summary\n",
      "Hyperparameters:\n",
      "num_layers: 2\n",
      "units_0: 26\n",
      "optimizer: Adam\n",
      "units_1: 20\n",
      "units_2: 42\n",
      "tuner/epochs: 10\n",
      "tuner/initial_epoch: 0\n",
      "tuner/bracket: 1\n",
      "tuner/round: 0\n",
      "Score: 0.7711219191551208\n"
     ]
    }
   ],
   "source": [
    "tuner.results_summary()"
   ]
  },
  {
   "cell_type": "code",
   "execution_count": 23,
   "id": "d20e3838-cb30-40ed-a117-51058673ed84",
   "metadata": {},
   "outputs": [
    {
     "data": {
      "text/plain": [
       "[<keras.engine.sequential.Sequential at 0x1662d7880>,\n",
       " <keras.engine.sequential.Sequential at 0x1660ec9d0>,\n",
       " <keras.engine.sequential.Sequential at 0x165931dc0>]"
      ]
     },
     "execution_count": 23,
     "metadata": {},
     "output_type": "execute_result"
    }
   ],
   "source": [
    "tuner.get_best_models(num_models=3) # apuntadores\n",
    "# evaluate the keras model\n",
    "# F,loss, accuracy, AUC, Precision, Recall = model2.evaluate(x2.to_numpy(), y2.carga_aprobada.to_numpy())"
   ]
  },
  {
   "cell_type": "markdown",
   "id": "55ef03e0-3bfd-4040-ae43-ac367541ad84",
   "metadata": {},
   "source": [
    "## el mejor modelo se puede consultar y volver a evaluar\n",
    "\n",
    "## se evalua con respecto a un tercer conjunto de la muestra no perteneciente al entrenamiento o a la validación"
   ]
  },
  {
   "cell_type": "code",
   "execution_count": 24,
   "id": "a472fd5c-d8ad-492e-80b7-5c2b0632f2c8",
   "metadata": {},
   "outputs": [
    {
     "name": "stdout",
     "output_type": "stream",
     "text": [
      "190/190 [==============================] - 1s 1ms/step - loss: 0.5920 - f1: 0.7622 - accuracy: 0.7168 - auc: 0.7655 - precision: 0.7209 - recall: 0.8783\n"
     ]
    },
    {
     "data": {
      "text/plain": [
       "[0.592042863368988,\n",
       " 0.7621918320655823,\n",
       " 0.7168039679527283,\n",
       " 0.765464186668396,\n",
       " 0.7208994626998901,\n",
       " 0.8783239126205444]"
      ]
     },
     "execution_count": 24,
     "metadata": {},
     "output_type": "execute_result"
    }
   ],
   "source": [
    "# EVALUA EL MEJOR MODELO Y CALCULA LAS DEMAS METRICAS\n",
    "\n",
    "#best_model = tuner_hb.get_best_models(num_models=1)[0]\n",
    "#best_model.evaluate(x_test_scaled, y_test)\n",
    "tuner.get_best_models(num_models=1)[0].evaluate( x3.to_numpy(),y3.carga_aprobada.to_numpy() )"
   ]
  },
  {
   "cell_type": "markdown",
   "id": "36685140-9e32-4bc3-a42e-2cbeddfe9751",
   "metadata": {},
   "source": [
    "## despues de varias pruebas el f1 score mas alto obtenido ha sido de 0.77"
   ]
  }
 ],
 "metadata": {
  "kernelspec": {
   "display_name": "Python 3",
   "language": "python",
   "name": "python3"
  },
  "language_info": {
   "codemirror_mode": {
    "name": "ipython",
    "version": 3
   },
   "file_extension": ".py",
   "mimetype": "text/x-python",
   "name": "python",
   "nbconvert_exporter": "python",
   "pygments_lexer": "ipython3",
   "version": "3.9.4"
  }
 },
 "nbformat": 4,
 "nbformat_minor": 5
}
